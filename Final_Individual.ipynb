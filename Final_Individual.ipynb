{
 "cells": [
  {
   "cell_type": "markdown",
   "metadata": {},
   "source": [
    "Final C4SUE Individual Project\n",
    "Data: Evictions from NYC Open Data \n",
    "\n",
    "\n",
    "# 1 \n",
    "Describe the Data: \n",
    "- \n",
    "structure, data types and format "
   ]
  },
  {
   "cell_type": "code",
   "execution_count": 196,
   "metadata": {},
   "outputs": [
    {
     "ename": "ModuleNotFoundError",
     "evalue": "No module named 'geopandas'",
     "output_type": "error",
     "traceback": [
      "\u001b[0;31m---------------------------------------------------------------------------\u001b[0m",
      "\u001b[0;31mModuleNotFoundError\u001b[0m                       Traceback (most recent call last)",
      "\u001b[0;32m<ipython-input-196-6f5800008470>\u001b[0m in \u001b[0;36m<module>\u001b[0;34m\u001b[0m\n\u001b[1;32m     10\u001b[0m \u001b[0;32mimport\u001b[0m \u001b[0mseaborn\u001b[0m \u001b[0;32mas\u001b[0m \u001b[0msns\u001b[0m\u001b[0;34m\u001b[0m\u001b[0;34m\u001b[0m\u001b[0m\n\u001b[1;32m     11\u001b[0m \u001b[0;34m\u001b[0m\u001b[0m\n\u001b[0;32m---> 12\u001b[0;31m \u001b[0;32mimport\u001b[0m \u001b[0mgeopandas\u001b[0m \u001b[0;32mas\u001b[0m \u001b[0mgpd\u001b[0m\u001b[0;34m\u001b[0m\u001b[0;34m\u001b[0m\u001b[0m\n\u001b[0m\u001b[1;32m     13\u001b[0m \u001b[0;32mfrom\u001b[0m \u001b[0mshapely\u001b[0m\u001b[0;34m.\u001b[0m\u001b[0mgeometry\u001b[0m \u001b[0;32mimport\u001b[0m \u001b[0mPoint\u001b[0m\u001b[0;34m\u001b[0m\u001b[0;34m\u001b[0m\u001b[0m\n\u001b[1;32m     14\u001b[0m \u001b[0;32mfrom\u001b[0m \u001b[0mgeopandas\u001b[0m \u001b[0;32mimport\u001b[0m \u001b[0mGeoDataFrame\u001b[0m\u001b[0;34m\u001b[0m\u001b[0;34m\u001b[0m\u001b[0m\n",
      "\u001b[0;31mModuleNotFoundError\u001b[0m: No module named 'geopandas'"
     ]
    }
   ],
   "source": [
    "## import pandas \n",
    "#runing packages \n",
    "import pandas as pd \n",
    "import numpy as np\n",
    "\n",
    "import matplotlib \n",
    "import matplotlib.pyplot as plt\n",
    "\n",
    "from datetime import datetime\n",
    "import seaborn as sns\n",
    "\n",
    "import geopandas as gpd\n",
    "from shapely.geometry import Point \n",
    "from geopandas import GeoDataFrame\n",
    "from shapely.geometry import MultiPolygon\n",
    "\n",
    "## upload data\n",
    "evictionsNYC = pd.read_csv('Evictions.csv')"
   ]
  },
  {
   "cell_type": "code",
   "execution_count": 174,
   "metadata": {},
   "outputs": [
    {
     "data": {
      "text/plain": [
       "(66403, 20)"
      ]
     },
     "execution_count": 174,
     "metadata": {},
     "output_type": "execute_result"
    }
   ],
   "source": [
    "evictionsNYC.shape"
   ]
  },
  {
   "cell_type": "code",
   "execution_count": 175,
   "metadata": {},
   "outputs": [
    {
     "data": {
      "text/html": [
       "<div>\n",
       "<style scoped>\n",
       "    .dataframe tbody tr th:only-of-type {\n",
       "        vertical-align: middle;\n",
       "    }\n",
       "\n",
       "    .dataframe tbody tr th {\n",
       "        vertical-align: top;\n",
       "    }\n",
       "\n",
       "    .dataframe thead th {\n",
       "        text-align: right;\n",
       "    }\n",
       "</style>\n",
       "<table border=\"1\" class=\"dataframe\">\n",
       "  <thead>\n",
       "    <tr style=\"text-align: right;\">\n",
       "      <th></th>\n",
       "      <th>Court Index Number</th>\n",
       "      <th>Docket Number</th>\n",
       "      <th>Eviction Address</th>\n",
       "      <th>Eviction Apartment Number</th>\n",
       "      <th>Executed Date</th>\n",
       "      <th>Marshal First Name</th>\n",
       "      <th>Marshal Last Name</th>\n",
       "      <th>Residential/Commercial</th>\n",
       "      <th>BOROUGH</th>\n",
       "      <th>Eviction Postcode</th>\n",
       "      <th>Ejectment</th>\n",
       "      <th>Eviction/Legal Possession</th>\n",
       "      <th>Latitude</th>\n",
       "      <th>Longitude</th>\n",
       "      <th>Community Board</th>\n",
       "      <th>Council District</th>\n",
       "      <th>Census Tract</th>\n",
       "      <th>BIN</th>\n",
       "      <th>BBL</th>\n",
       "      <th>NTA</th>\n",
       "    </tr>\n",
       "  </thead>\n",
       "  <tbody>\n",
       "    <tr>\n",
       "      <th>0</th>\n",
       "      <td>40492/17</td>\n",
       "      <td>337309</td>\n",
       "      <td>2130 TIEBOUT AVENUE</td>\n",
       "      <td>103/1ST FL</td>\n",
       "      <td>04/23/2018</td>\n",
       "      <td>Thomas</td>\n",
       "      <td>Bia</td>\n",
       "      <td>Residential</td>\n",
       "      <td>BRONX</td>\n",
       "      <td>10457</td>\n",
       "      <td>Not an Ejectment</td>\n",
       "      <td>Possession</td>\n",
       "      <td>40.853575</td>\n",
       "      <td>-73.898475</td>\n",
       "      <td>5.0</td>\n",
       "      <td>15.0</td>\n",
       "      <td>379.0</td>\n",
       "      <td>2013305.0</td>\n",
       "      <td>2.031430e+09</td>\n",
       "      <td>Mount Hope</td>\n",
       "    </tr>\n",
       "    <tr>\n",
       "      <th>1</th>\n",
       "      <td>K091444/17</td>\n",
       "      <td>388532</td>\n",
       "      <td>769 ST MARKS AVENUE</td>\n",
       "      <td>3-5E</td>\n",
       "      <td>03/12/2018</td>\n",
       "      <td>Richard</td>\n",
       "      <td>McCoy</td>\n",
       "      <td>Residential</td>\n",
       "      <td>BROOKLYN</td>\n",
       "      <td>11213</td>\n",
       "      <td>Not an Ejectment</td>\n",
       "      <td>Possession</td>\n",
       "      <td>40.675029</td>\n",
       "      <td>-73.946598</td>\n",
       "      <td>8.0</td>\n",
       "      <td>36.0</td>\n",
       "      <td>313.0</td>\n",
       "      <td>3030734.0</td>\n",
       "      <td>3.012210e+09</td>\n",
       "      <td>Crown Heights North</td>\n",
       "    </tr>\n",
       "    <tr>\n",
       "      <th>2</th>\n",
       "      <td>064158/18</td>\n",
       "      <td>86100</td>\n",
       "      <td>191-19 JAMAICA AVE</td>\n",
       "      <td>SECOND FLOOR LEFT</td>\n",
       "      <td>08/29/2018</td>\n",
       "      <td>Henry</td>\n",
       "      <td>Daley</td>\n",
       "      <td>Commercial</td>\n",
       "      <td>QUEENS</td>\n",
       "      <td>11423</td>\n",
       "      <td>Not an Ejectment</td>\n",
       "      <td>Possession</td>\n",
       "      <td>40.712604</td>\n",
       "      <td>-73.768501</td>\n",
       "      <td>12.0</td>\n",
       "      <td>23.0</td>\n",
       "      <td>482.0</td>\n",
       "      <td>4000000.0</td>\n",
       "      <td>4.104470e+09</td>\n",
       "      <td>Hollis</td>\n",
       "    </tr>\n",
       "    <tr>\n",
       "      <th>3</th>\n",
       "      <td>83867/16-2</td>\n",
       "      <td>6895</td>\n",
       "      <td>546 ISHAM STREET</td>\n",
       "      <td>22A</td>\n",
       "      <td>06/27/2017</td>\n",
       "      <td>George</td>\n",
       "      <td>Essock, Jr.</td>\n",
       "      <td>Residential</td>\n",
       "      <td>MANHATTAN</td>\n",
       "      <td>10034</td>\n",
       "      <td>Not an Ejectment</td>\n",
       "      <td>Possession</td>\n",
       "      <td>40.866936</td>\n",
       "      <td>-73.919009</td>\n",
       "      <td>12.0</td>\n",
       "      <td>10.0</td>\n",
       "      <td>293.0</td>\n",
       "      <td>1064851.0</td>\n",
       "      <td>1.022270e+09</td>\n",
       "      <td>Marble Hill-Inwood</td>\n",
       "    </tr>\n",
       "    <tr>\n",
       "      <th>4</th>\n",
       "      <td>085641/18</td>\n",
       "      <td>91267</td>\n",
       "      <td>381 ESSEX STREET</td>\n",
       "      <td>2</td>\n",
       "      <td>09/04/2019</td>\n",
       "      <td>Henry</td>\n",
       "      <td>Daley</td>\n",
       "      <td>Residential</td>\n",
       "      <td>BROOKLYN</td>\n",
       "      <td>11208</td>\n",
       "      <td>Not an Ejectment</td>\n",
       "      <td>Possession</td>\n",
       "      <td>40.674648</td>\n",
       "      <td>-73.881858</td>\n",
       "      <td>5.0</td>\n",
       "      <td>37.0</td>\n",
       "      <td>1166.0</td>\n",
       "      <td>3088972.0</td>\n",
       "      <td>3.040040e+09</td>\n",
       "      <td>East New York</td>\n",
       "    </tr>\n",
       "  </tbody>\n",
       "</table>\n",
       "</div>"
      ],
      "text/plain": [
       "  Court Index Number  Docket Number      Eviction Address  \\\n",
       "0           40492/17          337309  2130 TIEBOUT AVENUE   \n",
       "1         K091444/17          388532  769 ST MARKS AVENUE   \n",
       "2          064158/18           86100   191-19 JAMAICA AVE   \n",
       "3         83867/16-2            6895     546 ISHAM STREET   \n",
       "4          085641/18           91267     381 ESSEX STREET   \n",
       "\n",
       "  Eviction Apartment Number Executed Date Marshal First Name  \\\n",
       "0                103/1ST FL    04/23/2018             Thomas   \n",
       "1                      3-5E    03/12/2018            Richard   \n",
       "2         SECOND FLOOR LEFT    08/29/2018              Henry   \n",
       "3                       22A    06/27/2017             George   \n",
       "4                         2    09/04/2019              Henry   \n",
       "\n",
       "  Marshal Last Name Residential/Commercial    BOROUGH  Eviction Postcode  \\\n",
       "0               Bia            Residential      BRONX              10457   \n",
       "1             McCoy            Residential   BROOKLYN              11213   \n",
       "2             Daley             Commercial     QUEENS              11423   \n",
       "3       Essock, Jr.            Residential  MANHATTAN              10034   \n",
       "4             Daley            Residential   BROOKLYN              11208   \n",
       "\n",
       "          Ejectment Eviction/Legal Possession   Latitude  Longitude  \\\n",
       "0  Not an Ejectment                Possession  40.853575 -73.898475   \n",
       "1  Not an Ejectment                Possession  40.675029 -73.946598   \n",
       "2  Not an Ejectment                Possession  40.712604 -73.768501   \n",
       "3  Not an Ejectment                Possession  40.866936 -73.919009   \n",
       "4  Not an Ejectment                Possession  40.674648 -73.881858   \n",
       "\n",
       "   Community Board  Council District  Census Tract        BIN           BBL  \\\n",
       "0              5.0              15.0         379.0  2013305.0  2.031430e+09   \n",
       "1              8.0              36.0         313.0  3030734.0  3.012210e+09   \n",
       "2             12.0              23.0         482.0  4000000.0  4.104470e+09   \n",
       "3             12.0              10.0         293.0  1064851.0  1.022270e+09   \n",
       "4              5.0              37.0        1166.0  3088972.0  3.040040e+09   \n",
       "\n",
       "                   NTA  \n",
       "0           Mount Hope  \n",
       "1  Crown Heights North  \n",
       "2               Hollis  \n",
       "3   Marble Hill-Inwood  \n",
       "4        East New York  "
      ]
     },
     "execution_count": 175,
     "metadata": {},
     "output_type": "execute_result"
    }
   ],
   "source": [
    "evictionsNYC.head()"
   ]
  },
  {
   "cell_type": "code",
   "execution_count": 176,
   "metadata": {},
   "outputs": [
    {
     "data": {
      "text/plain": [
       "0        04/23/2018\n",
       "1        03/12/2018\n",
       "2        08/29/2018\n",
       "3        06/27/2017\n",
       "4        09/04/2019\n",
       "            ...    \n",
       "66398    07/24/2017\n",
       "66399    04/30/2019\n",
       "66400    01/13/2017\n",
       "66401    01/23/2019\n",
       "66402    03/15/2019\n",
       "Name: Executed Date, Length: 66403, dtype: object"
      ]
     },
     "execution_count": 176,
     "metadata": {},
     "output_type": "execute_result"
    }
   ],
   "source": [
    "evictionsNYC['Executed Date']"
   ]
  },
  {
   "cell_type": "code",
   "execution_count": 177,
   "metadata": {},
   "outputs": [
    {
     "data": {
      "text/plain": [
       "Court Index Number            object\n",
       "Docket Number                  int64\n",
       "Eviction Address              object\n",
       "Eviction Apartment Number     object\n",
       "Executed Date                 object\n",
       "Marshal First Name            object\n",
       "Marshal Last Name             object\n",
       "Residential/Commercial        object\n",
       "BOROUGH                       object\n",
       "Eviction Postcode              int64\n",
       "Ejectment                     object\n",
       "Eviction/Legal Possession     object\n",
       "Latitude                     float64\n",
       "Longitude                    float64\n",
       "Community Board              float64\n",
       "Council District             float64\n",
       "Census Tract                 float64\n",
       "BIN                          float64\n",
       "BBL                          float64\n",
       "NTA                           object\n",
       "dtype: object"
      ]
     },
     "execution_count": 177,
     "metadata": {},
     "output_type": "execute_result"
    }
   ],
   "source": [
    "evictionsNYC.dtypes"
   ]
  },
  {
   "cell_type": "code",
   "execution_count": 178,
   "metadata": {},
   "outputs": [
    {
     "data": {
      "text/html": [
       "<div>\n",
       "<style scoped>\n",
       "    .dataframe tbody tr th:only-of-type {\n",
       "        vertical-align: middle;\n",
       "    }\n",
       "\n",
       "    .dataframe tbody tr th {\n",
       "        vertical-align: top;\n",
       "    }\n",
       "\n",
       "    .dataframe thead th {\n",
       "        text-align: right;\n",
       "    }\n",
       "</style>\n",
       "<table border=\"1\" class=\"dataframe\">\n",
       "  <thead>\n",
       "    <tr style=\"text-align: right;\">\n",
       "      <th></th>\n",
       "      <th>Court Index Number</th>\n",
       "      <th>Docket Number</th>\n",
       "      <th>Eviction Address</th>\n",
       "      <th>Eviction Apartment Number</th>\n",
       "      <th>Executed Date</th>\n",
       "      <th>Marshal First Name</th>\n",
       "      <th>Marshal Last Name</th>\n",
       "      <th>Residential/Commercial</th>\n",
       "      <th>BOROUGH</th>\n",
       "      <th>Eviction Postcode</th>\n",
       "      <th>Ejectment</th>\n",
       "      <th>Eviction/Legal Possession</th>\n",
       "      <th>Latitude</th>\n",
       "      <th>Longitude</th>\n",
       "      <th>Community Board</th>\n",
       "      <th>Council District</th>\n",
       "      <th>Census Tract</th>\n",
       "      <th>BIN</th>\n",
       "      <th>BBL</th>\n",
       "      <th>NTA</th>\n",
       "    </tr>\n",
       "  </thead>\n",
       "  <tbody>\n",
       "    <tr>\n",
       "      <th>66398</th>\n",
       "      <td>79242/16</td>\n",
       "      <td>291349</td>\n",
       "      <td>162-18 108TH AVE</td>\n",
       "      <td>2</td>\n",
       "      <td>2017-07-24</td>\n",
       "      <td>George</td>\n",
       "      <td>Essock</td>\n",
       "      <td>Residential</td>\n",
       "      <td>QUEENS</td>\n",
       "      <td>11433</td>\n",
       "      <td>Not an Ejectment</td>\n",
       "      <td>Possession</td>\n",
       "      <td>40.696282</td>\n",
       "      <td>-73.791905</td>\n",
       "      <td>12.0</td>\n",
       "      <td>28.0</td>\n",
       "      <td>260.0</td>\n",
       "      <td>4216178.0</td>\n",
       "      <td>4.101500e+09</td>\n",
       "      <td>South Jamaica</td>\n",
       "    </tr>\n",
       "    <tr>\n",
       "      <th>66399</th>\n",
       "      <td>23176/18</td>\n",
       "      <td>15438</td>\n",
       "      <td>825 BOYNTON AVENUE</td>\n",
       "      <td>6E</td>\n",
       "      <td>2019-04-30</td>\n",
       "      <td>George</td>\n",
       "      <td>Essock, Jr.</td>\n",
       "      <td>Residential</td>\n",
       "      <td>BRONX</td>\n",
       "      <td>10473</td>\n",
       "      <td>Not an Ejectment</td>\n",
       "      <td>Possession</td>\n",
       "      <td>40.820139</td>\n",
       "      <td>-73.876260</td>\n",
       "      <td>9.0</td>\n",
       "      <td>17.0</td>\n",
       "      <td>28.0</td>\n",
       "      <td>2092720.0</td>\n",
       "      <td>2.036230e+09</td>\n",
       "      <td>Soundview-Castle Hill-Clason Point-Harding Park</td>\n",
       "    </tr>\n",
       "    <tr>\n",
       "      <th>66400</th>\n",
       "      <td>71824/16</td>\n",
       "      <td>4158</td>\n",
       "      <td>2171 CLARENDON ROAD APARTMENT 3</td>\n",
       "      <td>3</td>\n",
       "      <td>2017-01-13</td>\n",
       "      <td>Robert</td>\n",
       "      <td>Renzulli</td>\n",
       "      <td>Residential</td>\n",
       "      <td>BROOKLYN</td>\n",
       "      <td>11226</td>\n",
       "      <td>Not an Ejectment</td>\n",
       "      <td>Possession</td>\n",
       "      <td>40.642722</td>\n",
       "      <td>-73.957264</td>\n",
       "      <td>14.0</td>\n",
       "      <td>40.0</td>\n",
       "      <td>792.0</td>\n",
       "      <td>3396547.0</td>\n",
       "      <td>3.051650e+09</td>\n",
       "      <td>Erasmus</td>\n",
       "    </tr>\n",
       "    <tr>\n",
       "      <th>66401</th>\n",
       "      <td>H252047/18</td>\n",
       "      <td>110518</td>\n",
       "      <td>2092-2094 FIFTH AVE</td>\n",
       "      <td>7B</td>\n",
       "      <td>2019-01-23</td>\n",
       "      <td>Darlene</td>\n",
       "      <td>Barone</td>\n",
       "      <td>Residential</td>\n",
       "      <td>MANHATTAN</td>\n",
       "      <td>10035</td>\n",
       "      <td>Not an Ejectment</td>\n",
       "      <td>Possession</td>\n",
       "      <td>40.808739</td>\n",
       "      <td>-73.940577</td>\n",
       "      <td>10.0</td>\n",
       "      <td>9.0</td>\n",
       "      <td>208.0</td>\n",
       "      <td>1053697.0</td>\n",
       "      <td>1.017260e+09</td>\n",
       "      <td>Central Harlem North-Polo Grounds</td>\n",
       "    </tr>\n",
       "    <tr>\n",
       "      <th>66402</th>\n",
       "      <td>20496/17</td>\n",
       "      <td>333810</td>\n",
       "      <td>234 EAST GUN HILL ROAD</td>\n",
       "      <td>4G</td>\n",
       "      <td>2019-03-15</td>\n",
       "      <td>Thomas</td>\n",
       "      <td>Bia</td>\n",
       "      <td>Residential</td>\n",
       "      <td>BRONX</td>\n",
       "      <td>10467</td>\n",
       "      <td>Not an Ejectment</td>\n",
       "      <td>Possession</td>\n",
       "      <td>40.880139</td>\n",
       "      <td>-73.876549</td>\n",
       "      <td>7.0</td>\n",
       "      <td>11.0</td>\n",
       "      <td>423.0</td>\n",
       "      <td>2018221.0</td>\n",
       "      <td>2.033430e+09</td>\n",
       "      <td>Norwood</td>\n",
       "    </tr>\n",
       "  </tbody>\n",
       "</table>\n",
       "</div>"
      ],
      "text/plain": [
       "      Court Index Number  Docket Number                  Eviction Address  \\\n",
       "66398           79242/16          291349                 162-18 108TH AVE   \n",
       "66399           23176/18           15438               825 BOYNTON AVENUE   \n",
       "66400           71824/16            4158  2171 CLARENDON ROAD APARTMENT 3   \n",
       "66401         H252047/18          110518              2092-2094 FIFTH AVE   \n",
       "66402           20496/17          333810           234 EAST GUN HILL ROAD   \n",
       "\n",
       "      Eviction Apartment Number Executed Date Marshal First Name  \\\n",
       "66398                         2    2017-07-24             George   \n",
       "66399                        6E    2019-04-30             George   \n",
       "66400                         3    2017-01-13             Robert   \n",
       "66401                        7B    2019-01-23            Darlene   \n",
       "66402                        4G    2019-03-15             Thomas   \n",
       "\n",
       "      Marshal Last Name Residential/Commercial    BOROUGH  Eviction Postcode  \\\n",
       "66398            Essock            Residential     QUEENS              11433   \n",
       "66399       Essock, Jr.            Residential      BRONX              10473   \n",
       "66400          Renzulli            Residential   BROOKLYN              11226   \n",
       "66401            Barone            Residential  MANHATTAN              10035   \n",
       "66402               Bia            Residential      BRONX              10467   \n",
       "\n",
       "              Ejectment Eviction/Legal Possession   Latitude  Longitude  \\\n",
       "66398  Not an Ejectment                Possession  40.696282 -73.791905   \n",
       "66399  Not an Ejectment                Possession  40.820139 -73.876260   \n",
       "66400  Not an Ejectment                Possession  40.642722 -73.957264   \n",
       "66401  Not an Ejectment                Possession  40.808739 -73.940577   \n",
       "66402  Not an Ejectment                Possession  40.880139 -73.876549   \n",
       "\n",
       "       Community Board  Council District  Census Tract        BIN  \\\n",
       "66398             12.0              28.0         260.0  4216178.0   \n",
       "66399              9.0              17.0          28.0  2092720.0   \n",
       "66400             14.0              40.0         792.0  3396547.0   \n",
       "66401             10.0               9.0         208.0  1053697.0   \n",
       "66402              7.0              11.0         423.0  2018221.0   \n",
       "\n",
       "                BBL                                              NTA  \n",
       "66398  4.101500e+09                                    South Jamaica  \n",
       "66399  2.036230e+09  Soundview-Castle Hill-Clason Point-Harding Park  \n",
       "66400  3.051650e+09                                          Erasmus  \n",
       "66401  1.017260e+09                Central Harlem North-Polo Grounds  \n",
       "66402  2.033430e+09                                          Norwood  "
      ]
     },
     "execution_count": 178,
     "metadata": {},
     "output_type": "execute_result"
    }
   ],
   "source": [
    "evictionsNYC['Executed Date'] = pd.to_datetime(evictionsNYC['Executed Date'], format = \"%m/%d/%Y\")\n",
    "evictionsNYC.tail()"
   ]
  },
  {
   "cell_type": "markdown",
   "metadata": {},
   "source": [
    "# 2\n",
    "Divide data into years\n",
    "\n",
    "# How have evictions changed each year in the data? \n",
    "- evictions seem to be trending downards as each year has had less than the last. \n",
    "\n",
    "# Which year has the largest amount of evictions? \n",
    "-  2017\n",
    "\n",
    "# Which one had the smallest?\n",
    "- 2020; excluding 2021 as the data is incomplete \n",
    "\n",
    "Discuss your findings as compared to your assumtptions. \n",
    "- my assumtion was that due to the continuing influx of poeple moving into the city (or at least the trend of population density in NY pre-covid) would cause more and more people to be kicked out of their homes due to rising rent prices. Though this seems to not be the trend, it is the opposite. As the population increases less people are being evicted from their homes. "
   ]
  },
  {
   "cell_type": "code",
   "execution_count": 179,
   "metadata": {},
   "outputs": [
    {
     "name": "stdout",
     "output_type": "stream",
     "text": [
      "Evictions in 2017:  22530\n",
      "Evictions in 2018:  22530\n",
      "Evictions in 2019:  18647\n",
      "Evictions in 2020:  3387\n"
     ]
    }
   ],
   "source": [
    "## spliting data into years \n",
    "## ommiting 2021 data, 2020 data is skewed due to the COVID-19 pandemic \n",
    "evictions2017 = evictionsNYC[evictionsNYC['Executed Date'].dt.year==2017]\n",
    "evictions2018 = evictionsNYC[evictionsNYC['Executed Date'].dt.year==2018]\n",
    "evictions2019 = evictionsNYC[evictionsNYC['Executed Date'].dt.year==2019]\n",
    "evictions2020 = evictionsNYC[evictionsNYC['Executed Date'].dt.year==2020]\n",
    "\n",
    "print(\"Evictions in 2017: \", len(evictions2017))\n",
    "print(\"Evictions in 2018: \", len(evictions2017))\n",
    "print(\"Evictions in 2019: \", len(evictions2019))\n",
    "print(\"Evictions in 2020: \", len(evictions2020))"
   ]
  },
  {
   "cell_type": "code",
   "execution_count": 180,
   "metadata": {},
   "outputs": [
    {
     "data": {
      "image/png": "[encoded data removed]",
      "text/plain": [
       "<Figure size 720x288 with 1 Axes>"
      ]
     },
     "metadata": {
      "needs_background": "light"
     },
     "output_type": "display_data"
    }
   ],
   "source": [
    "## visualizing each year to answer question 2 \n",
    "\n",
    "plt.figure(figsize=(10,4))\n",
    "ratio = [len(evictions2017), len(evictions2017), len(evictions2019), len(evictions2020)]\n",
    "year = ['2017', '2018', '2019', '2020']\n",
    "plt.bar(year, ratio)\n",
    "plt.show()"
   ]
  },
  {
   "cell_type": "markdown",
   "metadata": {},
   "source": [
    "# 3\n",
    "# What is the ratio of commercial to residential evictions in the entire data? \n",
    "\n",
    "# Was this ratio constant over time? \n",
    "- calculate it seperatley per year \n",
    "- the ratio got smaller and smaller each year meaning that Residential and Commercial evictions are slowly trending towards an equilibrium between the two\n",
    "\n",
    "# visualize \n",
    "the data for each year \n",
    "- discuss trends \n",
    "- As stated above as each year progresses the ratio between residential and commercial eviction are become less of a difference, though there are still a substaintial amount more of residential evictions as compared to commercial. This could be due to the fact that there are simply more residential space in use than commercial creating this disporia or perhaps that the problem with evictions lies within evictions amoung residents rather than businesses holding commerical real-estate. \n",
    "\n",
    "^^ maybe split this up into different cells for readability "
   ]
  },
  {
   "cell_type": "code",
   "execution_count": 181,
   "metadata": {},
   "outputs": [
    {
     "name": "stdout",
     "output_type": "stream",
     "text": [
      "Total Residential:Commercial Evictions:  1087.251922045414 %\n"
     ]
    }
   ],
   "source": [
    "## Code for the above questions \n",
    "## calculate ratio's for each year's data \n",
    "## comparing commercial to residiential evictions \n",
    "\n",
    "evictionsNYC['Residential/Commercial'].value_counts()\n",
    "res_tot = len(evictionsNYC[evictionsNYC['Residential/Commercial']=='Residential'])\n",
    "com_tot = len(evictionsNYC[evictionsNYC['Residential/Commercial']=='Commercial'])\n",
    "ratio_tot = (res_tot/com_tot)*100\n",
    "print(\"Total Residential:Commercial Evictions: \", ratio_tot, '%')"
   ]
  },
  {
   "cell_type": "code",
   "execution_count": 182,
   "metadata": {},
   "outputs": [
    {
     "name": "stdout",
     "output_type": "stream",
     "text": [
      "1209.8837209302326\n"
     ]
    }
   ],
   "source": [
    "evictions2017['Residential/Commercial'].value_counts()\n",
    "res2017 = len(evictions2017[evictions2017['Residential/Commercial']=='Residential'])\n",
    "com2017 = len(evictions2017[evictions2017['Residential/Commercial']=='Commercial'])\n",
    "ratio2017 = (res2017/com2017)*100\n",
    "print(ratio2017)"
   ]
  },
  {
   "cell_type": "code",
   "execution_count": 183,
   "metadata": {},
   "outputs": [
    {
     "name": "stdout",
     "output_type": "stream",
     "text": [
      "1085.1248642779587\n"
     ]
    }
   ],
   "source": [
    "evictions2018['Residential/Commercial'].value_counts()\n",
    "res2018 = len(evictions2018[evictions2018['Residential/Commercial']=='Residential'])\n",
    "com2018 = len(evictions2018[evictions2018['Residential/Commercial']=='Commercial'])\n",
    "ratio2018 = (res2018/com2018)*100\n",
    "print(ratio2018)"
   ]
  },
  {
   "cell_type": "code",
   "execution_count": 184,
   "metadata": {},
   "outputs": [
    {
     "name": "stdout",
     "output_type": "stream",
     "text": [
      "1015.2511961722489\n"
     ]
    }
   ],
   "source": [
    "evictions2019['Residential/Commercial'].value_counts()\n",
    "res2019 = len(evictions2019[evictions2019['Residential/Commercial']=='Residential'])\n",
    "com2019 = len(evictions2019[evictions2019['Residential/Commercial']=='Commercial'])\n",
    "ratio2019 = (res2019/com2019)*100\n",
    "print(ratio2019)"
   ]
  },
  {
   "cell_type": "code",
   "execution_count": 185,
   "metadata": {},
   "outputs": [
    {
     "name": "stdout",
     "output_type": "stream",
     "text": [
      "862.2159090909091\n"
     ]
    }
   ],
   "source": [
    "evictions2020['Residential/Commercial'].value_counts()\n",
    "res2020 = len(evictions2020[evictions2020['Residential/Commercial']=='Residential'])\n",
    "com2020 = len(evictions2020[evictions2020['Residential/Commercial']=='Commercial'])\n",
    "ratio2020 = (res2020/com2020)*100\n",
    "print(ratio2020)"
   ]
  },
  {
   "cell_type": "code",
   "execution_count": 186,
   "metadata": {},
   "outputs": [
    {
     "data": {
      "image/png": "[encoded data removed]",
      "text/plain": [
       "<Figure size 720x288 with 1 Axes>"
      ]
     },
     "metadata": {
      "needs_background": "light"
     },
     "output_type": "display_data"
    }
   ],
   "source": [
    "## visualize data\n",
    "plt.figure(figsize=(10,4))\n",
    "ratio = [ratio2017, ratio2018, ratio2019, ratio2020]\n",
    "year = ['2017', '2018', '2019', '2020']\n",
    "plt.bar(year, ratio)\n",
    "plt.show()"
   ]
  },
  {
   "cell_type": "markdown",
   "metadata": {},
   "source": [
    "# 4 \n",
    "# What are the full names of the top 5 eviction marshalls? \n",
    "- denoted by who conduction the most evictions over time \n",
    "\n",
    "1. Justin Grossman\n",
    "2. Henry Daley\n",
    "3. Ileana Rivera\n",
    "4. Thomas Bia\n",
    "5. Edward Guida "
   ]
  },
  {
   "cell_type": "code",
   "execution_count": 187,
   "metadata": {},
   "outputs": [
    {
     "data": {
      "text/plain": [
       "Marshal First Name  Marshal Last Name\n",
       "Justin              Grossman             9173\n",
       "Henry               Daley                6487\n",
       "Ileana              Rivera               5842\n",
       "Thomas              Bia                  5560\n",
       "Edward              Guida                5422\n",
       "dtype: int64"
      ]
     },
     "execution_count": 187,
     "metadata": {},
     "output_type": "execute_result"
    }
   ],
   "source": [
    "## code for the above questions \n",
    "evictionsNYC[['Marshal First Name', 'Marshal Last Name']].value_counts().head()"
   ]
  },
  {
   "cell_type": "markdown",
   "metadata": {},
   "source": [
    " # 5\n",
    " # How do the five buroughs compare overtime in terms of the number of evictions in each?\n",
    "- dicusss the findings and compare them to the population of the buroughs \n",
    "\n",
    "- The Bronx overall has the most evicitions over all years 2017-2020\n",
    "- In comparison to population (I used an average between 2017-2020 of each borough as they did not differ greatly) \n",
    "    - Queens \n",
    "    - Manhattan had the least which though I know that the apartments in this certain borough are more expensive therefore more wealthy people live there just due to its density and perhaps my one sided memory of the city is that I would assume they would have more frequencity of evicitions though I was inncorrect. "
   ]
  },
  {
   "cell_type": "code",
   "execution_count": 188,
   "metadata": {},
   "outputs": [
    {
     "data": {
      "text/plain": [
       "BRONX            22053\n",
       "BROOKLYN         18832\n",
       "QUEENS           13177\n",
       "MANHATTAN        10168\n",
       "STATEN ISLAND     2173\n",
       "Name: BOROUGH, dtype: int64"
      ]
     },
     "execution_count": 188,
     "metadata": {},
     "output_type": "execute_result"
    }
   ],
   "source": [
    "## code for the above question \n",
    "evictionsNYC['BOROUGH'].value_counts()"
   ]
  },
  {
   "cell_type": "code",
   "execution_count": 189,
   "metadata": {},
   "outputs": [
    {
     "data": {
      "text/plain": [
       "BRONX            7662\n",
       "BROOKLYN         6357\n",
       "QUEENS           4325\n",
       "MANHATTAN        3452\n",
       "STATEN ISLAND     734\n",
       "Name: BOROUGH, dtype: int64"
      ]
     },
     "execution_count": 189,
     "metadata": {},
     "output_type": "execute_result"
    }
   ],
   "source": [
    "evictions2017['BOROUGH'].value_counts()"
   ]
  },
  {
   "cell_type": "code",
   "execution_count": 190,
   "metadata": {},
   "outputs": [
    {
     "data": {
      "text/plain": [
       "BRONX            7140\n",
       "BROOKLYN         6157\n",
       "QUEENS           4452\n",
       "MANHATTAN        3390\n",
       "STATEN ISLAND     691\n",
       "Name: BOROUGH, dtype: int64"
      ]
     },
     "execution_count": 190,
     "metadata": {},
     "output_type": "execute_result"
    }
   ],
   "source": [
    "evictions2018['BOROUGH'].value_counts()"
   ]
  },
  {
   "cell_type": "code",
   "execution_count": 191,
   "metadata": {},
   "outputs": [
    {
     "data": {
      "text/plain": [
       "BRONX            6188\n",
       "BROOKLYN         5312\n",
       "QUEENS           3705\n",
       "MANHATTAN        2806\n",
       "STATEN ISLAND     636\n",
       "Name: BOROUGH, dtype: int64"
      ]
     },
     "execution_count": 191,
     "metadata": {},
     "output_type": "execute_result"
    }
   ],
   "source": [
    "evictions2019['BOROUGH'].value_counts()"
   ]
  },
  {
   "cell_type": "code",
   "execution_count": 192,
   "metadata": {},
   "outputs": [
    {
     "data": {
      "text/plain": [
       "BRONX            1061\n",
       "BROOKLYN         1003\n",
       "QUEENS            693\n",
       "MANHATTAN         518\n",
       "STATEN ISLAND     112\n",
       "Name: BOROUGH, dtype: int64"
      ]
     },
     "execution_count": 192,
     "metadata": {},
     "output_type": "execute_result"
    }
   ],
   "source": [
    "evictions2020['BOROUGH'].value_counts()"
   ]
  },
  {
   "cell_type": "code",
   "execution_count": 193,
   "metadata": {},
   "outputs": [],
   "source": [
    "## comapred to the population in the buroughs \n",
    "bx_pop = []\n",
    "bk_pop = []\n",
    "q_pop = []\n",
    "m_pop = [1654000, 1632000, 1632000, 8700000]\n",
    "si_pop = []\n",
    "\n",
    "## 2017\n",
    "\n",
    "m = 1654000\n",
    "\n",
    "\n",
    "## 2018\n",
    "\n",
    "## 2019\n",
    "\n",
    "## 2020"
   ]
  },
  {
   "cell_type": "markdown",
   "metadata": {},
   "source": [
    "# 6\n",
    "\n",
    "# Visualize the data as a cholorpleth map using NTA level\n",
    "- the different shade represent the number of evictions in a particular NTA \n",
    "\n",
    "dicuss your findings: \n"
   ]
  },
  {
   "cell_type": "code",
   "execution_count": 195,
   "metadata": {},
   "outputs": [
    {
     "ename": "ModuleNotFoundError",
     "evalue": "No module named 'geopandas'",
     "output_type": "error",
     "traceback": [
      "\u001b[0;31m---------------------------------------------------------------------------\u001b[0m",
      "\u001b[0;31mModuleNotFoundError\u001b[0m                       Traceback (most recent call last)",
      "\u001b[0;32m<ipython-input-195-28c804c4e113>\u001b[0m in \u001b[0;36m<module>\u001b[0;34m\u001b[0m\n\u001b[1;32m      2\u001b[0m \u001b[0;32mimport\u001b[0m \u001b[0mmatplotlib\u001b[0m\u001b[0;34m\u001b[0m\u001b[0;34m\u001b[0m\u001b[0m\n\u001b[1;32m      3\u001b[0m \u001b[0;32mimport\u001b[0m \u001b[0mmatplotlib\u001b[0m\u001b[0;34m.\u001b[0m\u001b[0mpyplot\u001b[0m \u001b[0;32mas\u001b[0m \u001b[0mplt\u001b[0m\u001b[0;34m\u001b[0m\u001b[0;34m\u001b[0m\u001b[0m\n\u001b[0;32m----> 4\u001b[0;31m \u001b[0;32mimport\u001b[0m \u001b[0mgeopandas\u001b[0m \u001b[0;32mas\u001b[0m \u001b[0mgpd\u001b[0m\u001b[0;34m\u001b[0m\u001b[0;34m\u001b[0m\u001b[0m\n\u001b[0m\u001b[1;32m      5\u001b[0m \u001b[0;32mfrom\u001b[0m \u001b[0mshapely\u001b[0m\u001b[0;34m.\u001b[0m\u001b[0mgeometry\u001b[0m \u001b[0;32mimport\u001b[0m \u001b[0mPoint\u001b[0m\u001b[0;34m\u001b[0m\u001b[0;34m\u001b[0m\u001b[0m\n\u001b[1;32m      6\u001b[0m \u001b[0;32mfrom\u001b[0m \u001b[0mgeopandas\u001b[0m \u001b[0;32mimport\u001b[0m \u001b[0mGeoDataFrame\u001b[0m\u001b[0;34m\u001b[0m\u001b[0;34m\u001b[0m\u001b[0m\n",
      "\u001b[0;31mModuleNotFoundError\u001b[0m: No module named 'geopandas'"
     ]
    }
   ],
   "source": [
    "## upload packages \n",
    "import matplotlib\n",
    "import matplotlib.pyplot as plt\n",
    "\n",
    "import geopandas as gpd\n",
    "from shapely.geometry import Point \n",
    "from geopandas import GeoDataFrame\n",
    "from shapely.geometry import MultiPolygon"
   ]
  },
  {
   "cell_type": "code",
   "execution_count": null,
   "metadata": {},
   "outputs": [],
   "source": [
    "## Code for 6 \n",
    "## upload NTA file \n",
    "nta = gpd.read_file('nynta.csv')\n",
    "len(nta)"
   ]
  },
  {
   "cell_type": "code",
   "execution_count": null,
   "metadata": {},
   "outputs": [],
   "source": [
    "nta.head()"
   ]
  },
  {
   "cell_type": "code",
   "execution_count": null,
   "metadata": {},
   "outputs": [],
   "source": [
    "nta_name = []\n",
    "evic_num = []\n",
    "\n",
    "for i in range(len(nta.ntaname)):\n",
    "    nta_name.append(nta.ntaname.iloc[i])\n",
    "    \n",
    "    evic_num.append(len(evictionsNYC[(evictionsNYC['NTA'] == nta_name[i])]))\n",
    "    \n",
    "tup = list(zip(nta_name, evic_num))\n",
    "evic_per_nta = pd.DataFrame(tup, columns =('NTA', 'Evictions'))\n",
    "\n",
    "nta['NTA'] = nta['ntaname']\n",
    "nta = nta.merge(evic_per_nta, on='NTA')\n",
    "\n",
    "nta.plot(column = 'Evictions', legend = True, figsize=(30,10), cmap='PuRd')\n",
    "plt.axis('off')\n",
    "plt.show()"
   ]
  },
  {
   "cell_type": "markdown",
   "metadata": {},
   "source": [
    "With the visual it is obvious that there are certain NTA's with substantially more evictions than the rest \n",
    "\n",
    "these are seen in brooklyn, manhattan, and the bronx\n",
    "\n",
    "this is suprising since i though that queens would at least be on the top three due to the fact that they are the most populated burough. "
   ]
  },
  {
   "cell_type": "markdown",
   "metadata": {},
   "source": [
    "# 7 \n",
    "another socio-demographic attribute that may affect the number of evictions in a particular neighborhood? \n",
    "- look at data based on the attribute \n",
    "- visulaize side by side with evictions or in the same map \n",
    "\n",
    "# Attribute vs Evictions Ananlysis \n",
    "\n",
    "\n",
    "dicuss your findings and possible connections: \n",
    "\n"
   ]
  },
  {
   "cell_type": "code",
   "execution_count": null,
   "metadata": {},
   "outputs": [],
   "source": [
    "## code for 7 "
   ]
  }
 ],
 "metadata": {
  "kernelspec": {
   "display_name": "Python 3",
   "language": "python",
   "name": "python3"
  },
  "language_info": {
   "codemirror_mode": {
    "name": "ipython",
    "version": 3
   },
   "file_extension": ".py",
   "mimetype": "text/x-python",
   "name": "python",
   "nbconvert_exporter": "python",
   "pygments_lexer": "ipython3",
   "version": "3.8.5"
  }
 },
 "nbformat": 4,
 "nbformat_minor": 4
}
